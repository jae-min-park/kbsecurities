{
 "cells": [
  {
   "cell_type": "code",
   "execution_count": 28,
   "metadata": {},
   "outputs": [],
   "source": [
    "import dataManager \n",
    "import datetime\n",
    "import pymysql\n",
    "import pandas as pd\n",
    "import matplotlib.pyplot as plt\n",
    "%matplotlib inline\n",
    "import sys\n",
    "sys.path.append('d:/pywork/DDT(4)PR')\n",
    "\n",
    "import ddt_util as du\n",
    "import numpy as np\n",
    "\n",
    "test_db = pymysql.connect(user='admin',\n",
    "                          passwd='se21121',\n",
    "                           host = '211.232.156.57',\n",
    "                          # host='127.0.0.1',\n",
    "                          db='testschema',\n",
    "                          charset='utf8')\n",
    "\n",
    "cursor = test_db.cursor(pymysql.cursors.DictCursor)\n",
    "\n",
    "dfm = dataManager.DataFrameManager(cursor)\n",
    "date_start = pd.Timestamp(year=2021, month = 4, day = 26)\n",
    "date_end = pd.Timestamp(year=2021, month = 4, day = 26)\n",
    "\n",
    "sql = \"select * from `lktbftick` where date >= '\"+ str(date_start)[:10] + \"' and date <= '\" + str(date_end)[:10] + \"';\"\n",
    "\n",
    "dfm.setDfData(date_start, date_end)\n",
    "\n",
    "df_original = dfm.df\n",
    "df_original.index = df_original['index']"
   ]
  },
  {
   "cell_type": "code",
   "execution_count": 29,
   "metadata": {},
   "outputs": [],
   "source": [
    "df_original.time = df_original.time.astype(str).apply(lambda x: x[7:])"
   ]
  },
  {
   "cell_type": "code",
   "execution_count": 33,
   "metadata": {},
   "outputs": [
    {
     "data": {
      "text/html": [
       "<div>\n",
       "<style scoped>\n",
       "    .dataframe tbody tr th:only-of-type {\n",
       "        vertical-align: middle;\n",
       "    }\n",
       "\n",
       "    .dataframe tbody tr th {\n",
       "        vertical-align: top;\n",
       "    }\n",
       "\n",
       "    .dataframe thead th {\n",
       "        text-align: right;\n",
       "    }\n",
       "</style>\n",
       "<table border=\"1\" class=\"dataframe\">\n",
       "  <thead>\n",
       "    <tr style=\"text-align: right;\">\n",
       "      <th></th>\n",
       "      <th>index</th>\n",
       "      <th>code</th>\n",
       "      <th>date</th>\n",
       "      <th>time</th>\n",
       "      <th>close</th>\n",
       "      <th>vol</th>\n",
       "    </tr>\n",
       "    <tr>\n",
       "      <th>index</th>\n",
       "      <th></th>\n",
       "      <th></th>\n",
       "      <th></th>\n",
       "      <th></th>\n",
       "      <th></th>\n",
       "      <th></th>\n",
       "    </tr>\n",
       "  </thead>\n",
       "  <tbody>\n",
       "    <tr>\n",
       "      <th>5808642</th>\n",
       "      <td>5808642</td>\n",
       "      <td>167R6000</td>\n",
       "      <td>2021-04-26</td>\n",
       "      <td>09:00:00</td>\n",
       "      <td>126.28</td>\n",
       "      <td>214</td>\n",
       "    </tr>\n",
       "    <tr>\n",
       "      <th>5808643</th>\n",
       "      <td>5808643</td>\n",
       "      <td>167R6000</td>\n",
       "      <td>2021-04-26</td>\n",
       "      <td>09:00:00</td>\n",
       "      <td>126.29</td>\n",
       "      <td>14</td>\n",
       "    </tr>\n",
       "    <tr>\n",
       "      <th>5808644</th>\n",
       "      <td>5808644</td>\n",
       "      <td>167R6000</td>\n",
       "      <td>2021-04-26</td>\n",
       "      <td>09:00:00</td>\n",
       "      <td>126.29</td>\n",
       "      <td>38</td>\n",
       "    </tr>\n",
       "    <tr>\n",
       "      <th>5808645</th>\n",
       "      <td>5808645</td>\n",
       "      <td>167R6000</td>\n",
       "      <td>2021-04-26</td>\n",
       "      <td>09:00:01</td>\n",
       "      <td>126.29</td>\n",
       "      <td>30</td>\n",
       "    </tr>\n",
       "    <tr>\n",
       "      <th>5808646</th>\n",
       "      <td>5808646</td>\n",
       "      <td>167R6000</td>\n",
       "      <td>2021-04-26</td>\n",
       "      <td>09:00:01</td>\n",
       "      <td>126.30</td>\n",
       "      <td>1</td>\n",
       "    </tr>\n",
       "    <tr>\n",
       "      <th>...</th>\n",
       "      <td>...</td>\n",
       "      <td>...</td>\n",
       "      <td>...</td>\n",
       "      <td>...</td>\n",
       "      <td>...</td>\n",
       "      <td>...</td>\n",
       "    </tr>\n",
       "    <tr>\n",
       "      <th>5816645</th>\n",
       "      <td>5816645</td>\n",
       "      <td>167R6000</td>\n",
       "      <td>2021-04-26</td>\n",
       "      <td>15:34:52</td>\n",
       "      <td>125.91</td>\n",
       "      <td>1</td>\n",
       "    </tr>\n",
       "    <tr>\n",
       "      <th>5816646</th>\n",
       "      <td>5816646</td>\n",
       "      <td>167R6000</td>\n",
       "      <td>2021-04-26</td>\n",
       "      <td>15:34:52</td>\n",
       "      <td>125.92</td>\n",
       "      <td>10</td>\n",
       "    </tr>\n",
       "    <tr>\n",
       "      <th>5816647</th>\n",
       "      <td>5816647</td>\n",
       "      <td>167R6000</td>\n",
       "      <td>2021-04-26</td>\n",
       "      <td>15:34:56</td>\n",
       "      <td>125.92</td>\n",
       "      <td>1</td>\n",
       "    </tr>\n",
       "    <tr>\n",
       "      <th>5816648</th>\n",
       "      <td>5816648</td>\n",
       "      <td>167R6000</td>\n",
       "      <td>2021-04-26</td>\n",
       "      <td>15:34:59</td>\n",
       "      <td>125.92</td>\n",
       "      <td>10</td>\n",
       "    </tr>\n",
       "    <tr>\n",
       "      <th>5816649</th>\n",
       "      <td>5816649</td>\n",
       "      <td>167R6000</td>\n",
       "      <td>2021-04-26</td>\n",
       "      <td>15:45:00</td>\n",
       "      <td>125.99</td>\n",
       "      <td>3157</td>\n",
       "    </tr>\n",
       "  </tbody>\n",
       "</table>\n",
       "<p>8008 rows × 6 columns</p>\n",
       "</div>"
      ],
      "text/plain": [
       "           index      code        date      time   close   vol\n",
       "index                                                         \n",
       "5808642  5808642  167R6000  2021-04-26  09:00:00  126.28   214\n",
       "5808643  5808643  167R6000  2021-04-26  09:00:00  126.29    14\n",
       "5808644  5808644  167R6000  2021-04-26  09:00:00  126.29    38\n",
       "5808645  5808645  167R6000  2021-04-26  09:00:01  126.29    30\n",
       "5808646  5808646  167R6000  2021-04-26  09:00:01  126.30     1\n",
       "...          ...       ...         ...       ...     ...   ...\n",
       "5816645  5816645  167R6000  2021-04-26  15:34:52  125.91     1\n",
       "5816646  5816646  167R6000  2021-04-26  15:34:52  125.92    10\n",
       "5816647  5816647  167R6000  2021-04-26  15:34:56  125.92     1\n",
       "5816648  5816648  167R6000  2021-04-26  15:34:59  125.92    10\n",
       "5816649  5816649  167R6000  2021-04-26  15:45:00  125.99  3157\n",
       "\n",
       "[8008 rows x 6 columns]"
      ]
     },
     "execution_count": 33,
     "metadata": {},
     "output_type": "execute_result"
    }
   ],
   "source": []
  },
  {
   "cell_type": "code",
   "execution_count": 96,
   "metadata": {
    "scrolled": true
   },
   "outputs": [
    {
     "name": "stdout",
     "output_type": "stream",
     "text": [
      "       index      time   close   vol\n",
      "0    5808642  09:00:00  126.28   214\n",
      "1    5808643  09:00:00  126.29    14\n",
      "2    5808644  09:00:00  126.29    38\n",
      "3    5808645  09:00:01  126.29    30\n",
      "4    5808646  09:00:01  126.30     1\n",
      "..       ...       ...     ...   ...\n",
      "143  5816645  15:34:52  125.91     1\n",
      "144  5816646  15:34:52  125.92    10\n",
      "145  5816647  15:34:56  125.92     1\n",
      "146  5816648  15:34:59  125.92    10\n",
      "147  5816649  15:45:00  125.99  3157\n",
      "\n",
      "[148 rows x 4 columns]\n",
      "148\n"
     ]
    }
   ],
   "source": [
    "df_sample = pd.read_excel('reshape_sample.xlsx')\n",
    "print(df_sample)\n",
    "print(len(df_sample.index))"
   ]
  },
  {
   "cell_type": "code",
   "execution_count": null,
   "metadata": {},
   "outputs": [],
   "source": [
    "def getLeftoverVwap(prc_arr, volume_arr, unit_volume):\n",
    "    \"\"\"\n",
    "    unit_volume을 넘긴 체결data를 받아와서 leftover와 vwap 리턴\n",
    "    \"\"\"\n",
    "    volume_split = sum(volume_arr)-unit_volume\n",
    "    leftover = (prc_arr[-1], volume_split)\n",
    "    volume_arr[-1] = volume_arr[-1] - volume_split\n",
    "    if volume_arr[-1] < 0: raise ValueError\n",
    "    \n",
    "    vwap = round(sum(prc_arr * volume_arr) / unit_volume, 4)\n",
    "    \n",
    "    return leftover, vwap"
   ]
  },
  {
   "cell_type": "code",
   "execution_count": 120,
   "metadata": {},
   "outputs": [
    {
     "ename": "SyntaxError",
     "evalue": "invalid syntax (<ipython-input-120-29386d133033>, line 12)",
     "output_type": "error",
     "traceback": [
      "\u001b[1;36m  File \u001b[1;32m\"<ipython-input-120-29386d133033>\"\u001b[1;36m, line \u001b[1;32m12\u001b[0m\n\u001b[1;33m    for j in range()\u001b[0m\n\u001b[1;37m                    ^\u001b[0m\n\u001b[1;31mSyntaxError\u001b[0m\u001b[1;31m:\u001b[0m invalid syntax\n"
     ]
    }
   ],
   "source": [
    "df = pd.DataFrame(columns=['time', 'acc_volume', 'vwap'])\n",
    "\n",
    "leftover = {'price':999.99, 'volume':0}\n",
    "\n",
    "for i in range(len(df_sample.index)):\n",
    "    \n",
    "    if i == 0:\n",
    "        df.at[i, 'acc_volume'] = df_sample.iloc[0]['vol']\n",
    "        df.at[i, 'time'] = df_sample.iloc[0]['time']\n",
    "        df.at[i, 'vwap'] = df_sample.iloc[0]['close']\n",
    "    else:\n",
    "        for j in range(1, 9999):\n",
    "            leftover[1] + df_sample.iloc[i:i+j].vol.sum()\n",
    "        \n",
    "        now = {'time_last':'', 'acc_volume':0, 'price_list':[], 'volume_list':[]}\n",
    "\n",
    "        now['acc_volume'] += df_sample.iloc[1]\n",
    "        if acc_vol < 30:\n",
    "        now['price_list'].append(df_sample.iloc[1]['close'])\n",
    "\n",
    "    #!!! df_sample.iloc[1:3].vol.sum()\n",
    "\n",
    "\n",
    "print(df)"
   ]
  },
  {
   "cell_type": "code",
   "execution_count": 138,
   "metadata": {},
   "outputs": [
    {
     "name": "stdout",
     "output_type": "stream",
     "text": [
      "3\n"
     ]
    }
   ],
   "source": [
    "for i in range(5):\n",
    "    for j in range(999):\n",
    "#         print(i, j)\n",
    "        if j > 2: break\n",
    "print(j)"
   ]
  },
  {
   "cell_type": "code",
   "execution_count": 90,
   "metadata": {},
   "outputs": [
    {
     "data": {
      "text/plain": [
       "((3, 3), 1.6667)"
      ]
     },
     "execution_count": 90,
     "metadata": {},
     "output_type": "execute_result"
    }
   ],
   "source": [
    "a = np.array([1,2,3])\n",
    "b = np.array([18,4,11])\n",
    "\n",
    "getLeftoverVwap(a, b, 30)"
   ]
  },
  {
   "cell_type": "code",
   "execution_count": 134,
   "metadata": {},
   "outputs": [
    {
     "data": {
      "text/plain": [
       "[1, 2, 3, 4, 5, 6, 7, 8]"
      ]
     },
     "execution_count": 134,
     "metadata": {},
     "output_type": "execute_result"
    }
   ],
   "source": [
    "list(range(1,9))"
   ]
  }
 ],
 "metadata": {
  "kernelspec": {
   "display_name": "Python 3",
   "language": "python",
   "name": "python3"
  },
  "language_info": {
   "codemirror_mode": {
    "name": "ipython",
    "version": 3
   },
   "file_extension": ".py",
   "mimetype": "text/x-python",
   "name": "python",
   "nbconvert_exporter": "python",
   "pygments_lexer": "ipython3",
   "version": "3.8.5"
  }
 },
 "nbformat": 4,
 "nbformat_minor": 4
}
